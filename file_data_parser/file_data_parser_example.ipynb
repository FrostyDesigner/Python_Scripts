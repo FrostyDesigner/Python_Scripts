{
 "cells": [
  {
   "cell_type": "code",
   "execution_count": 1,
   "metadata": {},
   "outputs": [],
   "source": [
    "# text for the test\n",
    "test_text = \"\"\"\\\n",
    "apple\n",
    "banana\n",
    "lemon\n",
    "melon\n",
    "pear\"\"\"\n",
    "fname = \"myfruits.txt\"\n",
    "#write the multiline text to a test file\n",
    "fout = open(fname, \"w\")\n",
    "fout.write(test_text)\n",
    "fout.close()"
   ]
  },
  {
   "cell_type": "code",
   "execution_count": 4,
   "metadata": {},
   "outputs": [
    {
     "name": "stdout",
     "output_type": "stream",
     "text": [
      "['apple\\n', 'banana\\n', 'lemon\\n', 'melon\\n', 'pear']\n"
     ]
    }
   ],
   "source": [
    "# read the file back as a list of lines\n",
    "fin = open(fname, \"r\")\n",
    "data_list = fin.readlines()\n",
    "fin.close()\n",
    "print(data_list)"
   ]
  },
  {
   "cell_type": "code",
   "execution_count": 6,
   "metadata": {},
   "outputs": [
    {
     "name": "stdout",
     "output_type": "stream",
     "text": [
      "apple\n",
      "\n",
      "melon\n",
      "\n"
     ]
    }
   ],
   "source": [
    "# now you can access each line (list item) by the index\n",
    "# the index of a list is zero based\n",
    "print(data_list[0])  # apple\n",
    "print(data_list[3])  # melon"
   ]
  },
  {
   "cell_type": "code",
   "execution_count": 28,
   "metadata": {
    "scrolled": true
   },
   "outputs": [
    {
     "name": "stdout",
     "output_type": "stream",
     "text": [
      "apple\n",
      "\n",
      "banana\n",
      "\n",
      "lemon\n",
      "\n",
      "melon\n",
      "\n",
      "pear\n"
     ]
    }
   ],
   "source": [
    "#loop attempt\n",
    "for line in data_list:\n",
    "    print(line)"
   ]
  },
  {
   "cell_type": "code",
   "execution_count": 30,
   "metadata": {},
   "outputs": [
    {
     "name": "stdout",
     "output_type": "stream",
     "text": [
      "false\n",
      "banana\n",
      "false\n",
      "false\n",
      "false\n"
     ]
    }
   ],
   "source": [
    "#loop attempt\n",
    "i=0\n",
    "for line in data_list:\n",
    "    line=line.replace(\"\\n\",\"\")\n",
    "    # if data_list[i]==\"banana\":\n",
    "    if line==\"banana\":\n",
    "        print(line)\n",
    "    else:\n",
    "        print(\"false\")\n",
    "    i=i+1"
   ]
  },
  {
   "cell_type": "code",
   "execution_count": null,
   "metadata": {},
   "outputs": [],
   "source": []
  }
 ],
 "metadata": {
  "kernelspec": {
   "display_name": "Python 3",
   "language": "python",
   "name": "python3"
  },
  "language_info": {
   "codemirror_mode": {
    "name": "ipython",
    "version": 3
   },
   "file_extension": ".py",
   "mimetype": "text/x-python",
   "name": "python",
   "nbconvert_exporter": "python",
   "pygments_lexer": "ipython3",
   "version": "3.6.5"
  }
 },
 "nbformat": 4,
 "nbformat_minor": 2
}
