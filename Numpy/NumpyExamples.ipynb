{
 "cells": [
  {
   "cell_type": "code",
   "execution_count": 1,
   "metadata": {},
   "outputs": [],
   "source": [
    "import numpy\n",
    "import cv2"
   ]
  },
  {
   "cell_type": "code",
   "execution_count": 42,
   "metadata": {},
   "outputs": [
    {
     "data": {
      "text/plain": [
       "array([[187, 158, 104, 121, 143],\n",
       "       [198, 125, 255, 255, 147],\n",
       "       [209, 134, 255,  97, 182]], dtype=uint8)"
      ]
     },
     "execution_count": 42,
     "metadata": {},
     "output_type": "execute_result"
    }
   ],
   "source": [
    "#to convert an image to a numpy object\n",
    "im_g=cv2.imread(\"smallgray.png\", 0)\n",
    "im_g"
   ]
  },
  {
   "cell_type": "code",
   "execution_count": 5,
   "metadata": {},
   "outputs": [
    {
     "data": {
      "text/plain": [
       "True"
      ]
     },
     "execution_count": 5,
     "metadata": {},
     "output_type": "execute_result"
    }
   ],
   "source": [
    "#to convert a numpy object to an image\n",
    "cv2.imwrite(\"newsmallgray.png\", im_g)"
   ]
  },
  {
   "cell_type": "code",
   "execution_count": 7,
   "metadata": {},
   "outputs": [
    {
     "data": {
      "text/plain": [
       "array([[[232, 231, 211],\n",
       "        [232, 231, 211],\n",
       "        [234, 233, 212],\n",
       "        ...,\n",
       "        [226, 222, 198],\n",
       "        [226, 222, 198],\n",
       "        [226, 222, 198]],\n",
       "\n",
       "       [[233, 232, 212],\n",
       "        [232, 231, 211],\n",
       "        [236, 235, 214],\n",
       "        ...,\n",
       "        [226, 222, 198],\n",
       "        [224, 220, 196],\n",
       "        [223, 219, 195]],\n",
       "\n",
       "       [[224, 223, 203],\n",
       "        [223, 222, 202],\n",
       "        [227, 226, 205],\n",
       "        ...,\n",
       "        [228, 224, 200],\n",
       "        [227, 223, 199],\n",
       "        [226, 222, 198]],\n",
       "\n",
       "       ...,\n",
       "\n",
       "       [[114, 117,  92],\n",
       "        [121, 122, 102],\n",
       "        [118, 121, 106],\n",
       "        ...,\n",
       "        [173, 214, 216],\n",
       "        [171, 212, 214],\n",
       "        [171, 212, 214]],\n",
       "\n",
       "       [[120, 121,  95],\n",
       "        [118, 120,  98],\n",
       "        [113, 114,  98],\n",
       "        ...,\n",
       "        [174, 215, 217],\n",
       "        [172, 213, 215],\n",
       "        [172, 213, 215]],\n",
       "\n",
       "       [[120, 122,  93],\n",
       "        [111, 114,  89],\n",
       "        [107, 108,  92],\n",
       "        ...,\n",
       "        [174, 215, 217],\n",
       "        [173, 214, 216],\n",
       "        [173, 214, 216]]], dtype=uint8)"
      ]
     },
     "execution_count": 7,
     "metadata": {},
     "output_type": "execute_result"
    }
   ],
   "source": [
    "#to convert an image to a numpy object\n",
    "#second argument is 1 if color conversion\n",
    "im_g=cv2.imread(\"194.jpg\", 1)\n",
    "im_g"
   ]
  },
  {
   "cell_type": "code",
   "execution_count": 8,
   "metadata": {},
   "outputs": [
    {
     "data": {
      "text/plain": [
       "True"
      ]
     },
     "execution_count": 8,
     "metadata": {},
     "output_type": "execute_result"
    }
   ],
   "source": [
    "#to convert a numpy object to an image\n",
    "cv2.imwrite(\"new194.jpg\", im_g)"
   ]
  },
  {
   "cell_type": "code",
   "execution_count": 43,
   "metadata": {
    "scrolled": true
   },
   "outputs": [
    {
     "data": {
      "text/plain": [
       "([[[187, 187, 187],\n",
       "   [158, 158, 158],\n",
       "   [104, 104, 104],\n",
       "   [121, 121, 121],\n",
       "   [143, 143, 143]],\n",
       "  [[198, 198, 198],\n",
       "   [125, 125, 125],\n",
       "   [255, 255, 255],\n",
       "   [255, 255, 255],\n",
       "   [147, 147, 147]],\n",
       "  [[209, 209, 209],\n",
       "   [134, 134, 134],\n",
       "   [255, 255, 255],\n",
       "   [97, 97, 97],\n",
       "   [182, 182, 182]]],)"
      ]
     },
     "execution_count": 43,
     "metadata": {},
     "output_type": "execute_result"
    }
   ],
   "source": [
    "im_g2=([[[187, 187, 187],\n",
    "        [158, 158, 158],\n",
    "        [104, 104, 104],\n",
    "        [121, 121, 121],\n",
    "        [143, 143, 143]],\n",
    "\n",
    "       [[198, 198, 198],\n",
    "        [125, 125, 125],\n",
    "        [255, 255, 255],\n",
    "        [255, 255, 255],\n",
    "        [147, 147, 147]],\n",
    "\n",
    "       [[209, 209, 209],\n",
    "        [134, 134, 134],\n",
    "        [255, 255, 255],\n",
    "        [ 97,  97,  97],\n",
    "        [182, 182, 182]]],)\n",
    "im_g2"
   ]
  },
  {
   "cell_type": "code",
   "execution_count": 44,
   "metadata": {},
   "outputs": [
    {
     "data": {
      "text/plain": [
       "True"
      ]
     },
     "execution_count": 44,
     "metadata": {},
     "output_type": "execute_result"
    }
   ],
   "source": [
    "#to convert a numpy object to an image\n",
    "cv2.imwrite(\"newsmallgray.png\", im_g)"
   ]
  },
  {
   "cell_type": "code",
   "execution_count": 45,
   "metadata": {},
   "outputs": [],
   "source": [
    "a=[1,2,3]"
   ]
  },
  {
   "cell_type": "code",
   "execution_count": 46,
   "metadata": {},
   "outputs": [
    {
     "data": {
      "text/plain": [
       "[1]"
      ]
     },
     "execution_count": 46,
     "metadata": {},
     "output_type": "execute_result"
    }
   ],
   "source": [
    "a[0:1]"
   ]
  },
  {
   "cell_type": "code",
   "execution_count": 47,
   "metadata": {},
   "outputs": [
    {
     "data": {
      "text/plain": [
       "array([[187, 158, 104, 121, 143],\n",
       "       [198, 125, 255, 255, 147],\n",
       "       [209, 134, 255,  97, 182]], dtype=uint8)"
      ]
     },
     "execution_count": 47,
     "metadata": {},
     "output_type": "execute_result"
    }
   ],
   "source": [
    "#to convert an image to a numpy object\n",
    "im_g=cv2.imread(\"smallgray.png\", 0)\n",
    "im_g"
   ]
  },
  {
   "cell_type": "code",
   "execution_count": 50,
   "metadata": {},
   "outputs": [
    {
     "data": {
      "text/plain": [
       "array([[104, 121],\n",
       "       [255, 255]], dtype=uint8)"
      ]
     },
     "execution_count": 50,
     "metadata": {},
     "output_type": "execute_result"
    }
   ],
   "source": [
    "#slice - get first two rows\n",
    "#im_g[0:2]\n",
    "#slice - get first two rows and third and fourth columns\n",
    "im_g[0:2,2:4]"
   ]
  },
  {
   "cell_type": "code",
   "execution_count": 51,
   "metadata": {},
   "outputs": [
    {
     "data": {
      "text/plain": [
       "(3, 5)"
      ]
     },
     "execution_count": 51,
     "metadata": {},
     "output_type": "execute_result"
    }
   ],
   "source": [
    "im_g.shape"
   ]
  },
  {
   "cell_type": "code",
   "execution_count": 54,
   "metadata": {},
   "outputs": [
    {
     "name": "stdout",
     "output_type": "stream",
     "text": [
      "[187 158 104 121 143]\n",
      "[198 125 255 255 147]\n",
      "[209 134 255  97 182]\n"
     ]
    }
   ],
   "source": [
    "for i in im_g:\n",
    "    print(i)"
   ]
  },
  {
   "cell_type": "code",
   "execution_count": 56,
   "metadata": {},
   "outputs": [
    {
     "name": "stdout",
     "output_type": "stream",
     "text": [
      "[187 198 209]\n",
      "[158 125 134]\n",
      "[104 255 255]\n",
      "[121 255  97]\n",
      "[143 147 182]\n"
     ]
    }
   ],
   "source": [
    "#to transpose values\n",
    "for i in im_g.T:\n",
    "    print(i)"
   ]
  },
  {
   "cell_type": "code",
   "execution_count": 57,
   "metadata": {},
   "outputs": [
    {
     "name": "stdout",
     "output_type": "stream",
     "text": [
      "187\n",
      "158\n",
      "104\n",
      "121\n",
      "143\n",
      "198\n",
      "125\n",
      "255\n",
      "255\n",
      "147\n",
      "209\n",
      "134\n",
      "255\n",
      "97\n",
      "182\n"
     ]
    }
   ],
   "source": [
    "for i in im_g.flat:\n",
    "    print(i)"
   ]
  },
  {
   "cell_type": "code",
   "execution_count": 58,
   "metadata": {},
   "outputs": [
    {
     "data": {
      "text/plain": [
       "array([[187, 158, 104, 121, 143],\n",
       "       [198, 125, 255, 255, 147],\n",
       "       [209, 134, 255,  97, 182]], dtype=uint8)"
      ]
     },
     "execution_count": 58,
     "metadata": {},
     "output_type": "execute_result"
    }
   ],
   "source": [
    "#to stack arrays pass them as a tuple\n",
    "im_g"
   ]
  },
  {
   "cell_type": "code",
   "execution_count": 62,
   "metadata": {},
   "outputs": [
    {
     "name": "stdout",
     "output_type": "stream",
     "text": [
      "[[187 158 104 121 143 187 158 104 121 143 187 158 104 121 143]\n",
      " [198 125 255 255 147 198 125 255 255 147 198 125 255 255 147]\n",
      " [209 134 255  97 182 209 134 255  97 182 209 134 255  97 182]]\n"
     ]
    }
   ],
   "source": [
    "#to stack horizontally\n",
    "#ims=numpy.hstack((im_g, im_g))\n",
    "#pass multiples as long as they are in tuple form\n",
    "ims=numpy.hstack((im_g, im_g, im_g))\n",
    "print(ims)"
   ]
  },
  {
   "cell_type": "code",
   "execution_count": 63,
   "metadata": {},
   "outputs": [
    {
     "name": "stdout",
     "output_type": "stream",
     "text": [
      "[[187 158 104 121 143]\n",
      " [198 125 255 255 147]\n",
      " [209 134 255  97 182]\n",
      " [187 158 104 121 143]\n",
      " [198 125 255 255 147]\n",
      " [209 134 255  97 182]\n",
      " [187 158 104 121 143]\n",
      " [198 125 255 255 147]\n",
      " [209 134 255  97 182]]\n"
     ]
    }
   ],
   "source": [
    "#to stack vertically\n",
    "ims=numpy.vstack((im_g, im_g, im_g))\n",
    "print(ims)"
   ]
  },
  {
   "cell_type": "code",
   "execution_count": 66,
   "metadata": {},
   "outputs": [
    {
     "data": {
      "text/plain": [
       "[array([[187, 158, 104, 121, 143],\n",
       "        [198, 125, 255, 255, 147],\n",
       "        [209, 134, 255,  97, 182]], dtype=uint8),\n",
       " array([[187, 158, 104, 121, 143],\n",
       "        [198, 125, 255, 255, 147],\n",
       "        [209, 134, 255,  97, 182]], dtype=uint8),\n",
       " array([[187, 158, 104, 121, 143],\n",
       "        [198, 125, 255, 255, 147],\n",
       "        [209, 134, 255,  97, 182]], dtype=uint8)]"
      ]
     },
     "execution_count": 66,
     "metadata": {},
     "output_type": "execute_result"
    }
   ],
   "source": [
    "#to split \n",
    "lst = numpy.vsplit(ims,3)\n",
    "lst"
   ]
  },
  {
   "cell_type": "code",
   "execution_count": null,
   "metadata": {},
   "outputs": [],
   "source": []
  }
 ],
 "metadata": {
  "kernelspec": {
   "display_name": "Python 3",
   "language": "python",
   "name": "python3"
  },
  "language_info": {
   "codemirror_mode": {
    "name": "ipython",
    "version": 3
   },
   "file_extension": ".py",
   "mimetype": "text/x-python",
   "name": "python",
   "nbconvert_exporter": "python",
   "pygments_lexer": "ipython3",
   "version": "3.6.5"
  }
 },
 "nbformat": 4,
 "nbformat_minor": 2
}
