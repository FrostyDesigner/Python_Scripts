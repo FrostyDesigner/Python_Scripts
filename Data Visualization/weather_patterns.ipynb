{
 "cells": [
  {
   "cell_type": "code",
   "execution_count": 7,
   "metadata": {},
   "outputs": [],
   "source": [
    "#Bokeh Line Graph\n",
    "\n",
    "#importing Bokeh and pandas\n",
    "import pandas\n",
    "from bokeh.plotting import figure\n",
    "from bokeh.io import output_file, show\n",
    "import xlrd\n",
    "\n",
    "#prepare some data\n",
    "#lists must have the same length (count of objects)\n",
    "df=pandas.read_excel(\"verlegenhuken.xlsx\",sheet_name=0)\n",
    "#x=df[\"Temperature\"]\n",
    "#y=df[\"Pressure\"]\n",
    "x=df[\"Temperature\"]/10\n",
    "y=df[\"Pressure\"]/10\n",
    "\n",
    "#create a figure object and prepare the plot properties\n",
    "p=figure(plot_width=500,plot_height=400, tools='pan',logo=None)\n",
    " \n",
    "p.title.text=\"Temperature and Air Pressure\"\n",
    "p.title.text_color=\"Gray\"\n",
    "p.title.text_font=\"arial\"\n",
    "p.title.text_font_style=\"bold\"\n",
    "p.xaxis.minor_tick_line_color=None\n",
    "p.yaxis.minor_tick_line_color=None\n",
    "p.xaxis.axis_label=\"Temperature (°C)\"\n",
    "p.yaxis.axis_label=\"Pressure (hPa)\"  \n",
    "\n",
    "#create a plot with p\n",
    "#p.triangle(x,y)\n",
    "p.circle(x,y,size=0.5)\n",
    "\n",
    "#prepare the output file\n",
    "output_file(\"weather_data.html\")\n",
    "\n",
    "#write the plot in the figure object\n",
    "show(p)"
   ]
  },
  {
   "cell_type": "code",
   "execution_count": null,
   "metadata": {},
   "outputs": [],
   "source": []
  }
 ],
 "metadata": {
  "kernelspec": {
   "display_name": "Python 3",
   "language": "python",
   "name": "python3"
  },
  "language_info": {
   "codemirror_mode": {
    "name": "ipython",
    "version": 3
   },
   "file_extension": ".py",
   "mimetype": "text/x-python",
   "name": "python",
   "nbconvert_exporter": "python",
   "pygments_lexer": "ipython3",
   "version": "3.6.5"
  }
 },
 "nbformat": 4,
 "nbformat_minor": 2
}
